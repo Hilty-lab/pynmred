{
 "cells": [
  {
   "cell_type": "markdown",
   "id": "966ff918-87e6-411c-be33-a70995c15a18",
   "metadata": {},
   "source": [
    "Notebook file for Week 3, Diffusion experiment"
   ]
  },
  {
   "cell_type": "markdown",
   "id": "d06e269c-c28c-4f8a-9350-ba15fb28d24a",
   "metadata": {},
   "source": [
    "Import libraries. The nmrbase folder needs to be located within the folder containing this Jupyter notebook"
   ]
  },
  {
   "cell_type": "code",
   "execution_count": null,
   "id": "8e5aab26",
   "metadata": {},
   "outputs": [],
   "source": [
    "import numpy as np\n",
    "import scipy\n",
    "import matplotlib.pyplot as plt\n",
    "import nmrbase.expbase as expbase\n",
    "import nmrbase.expdta as expdta"
   ]
  },
  {
   "cell_type": "markdown",
   "id": "4a1b4ac5",
   "metadata": {},
   "source": [
    "Diffusion\n",
    "NOTE: To analyze and report multiple datasets, simply copy the necessary blocks of code."
   ]
  },
  {
   "cell_type": "code",
   "execution_count": null,
   "id": "0bf3beaa",
   "metadata": {},
   "outputs": [],
   "source": [
    "filename = r\"../DIRECTORY/FILENAME\"   #Defines the path to the data file. Here the path is relative to the current folder."
   ]
  },
  {
   "cell_type": "code",
   "execution_count": null,
   "id": "580831f0-b406-4fb3-928b-e2875050629e",
   "metadata": {},
   "outputs": [],
   "source": [
    "a = expbase.expbase()\n",
    "a.load(filename)                        # load data\n",
    "\n",
    "f1=plt.figure()\n",
    "ax1=f1.subplots()\n",
    "a.plottm(ax1,1)"
   ]
  },
  {
   "cell_type": "code",
   "execution_count": null,
   "id": "7d60cc3f-e0c8-46a1-a816-eaa18b11180e",
   "metadata": {},
   "outputs": [],
   "source": [
    "## TASKS:\n",
    "## fine tune with set_xlim and set_ylim parameters to zoom in on the echo\n",
    "\n",
    "ax1.set_ylim([VALUE,VALUE])\n",
    "ax1.set_xlim([VALUE,VALUE])\n",
    "\n",
    "f1"
   ]
  },
  {
   "cell_type": "code",
   "execution_count": null,
   "id": "cf8745c6-d8bf-493f-8340-652fca1103bf",
   "metadata": {},
   "outputs": [],
   "source": [
    "a.pproc['digfmin']=1500     # set appropriate digital filter parameters\n",
    "a.pproc['digfmax']=3500\n",
    "a.digfilt()                 # perform digital filter operation"
   ]
  },
  {
   "cell_type": "code",
   "execution_count": null,
   "id": "1a20eb71-4715-49dd-817e-eef07a56ac83",
   "metadata": {},
   "outputs": [],
   "source": [
    "## TASKS:\n",
    "## fine tune with set_xlim and set_ylim parameters to zoom in on the echo\n",
    "\n",
    "f2=plt.figure()\n",
    "ax2=f2.subplots()\n",
    "\n",
    "a.plottm(ax2,1)   # plot the 1st scan\n",
    "ax2.set_ylim([VALUE,VALUE])\n",
    "ax2.set_xlim([VALUE,VALUE])"
   ]
  },
  {
   "cell_type": "code",
   "execution_count": null,
   "id": "c83198c0",
   "metadata": {},
   "outputs": [],
   "source": [
    "## TASKS:\n",
    "## change parameter \"ftmin\" and \"ftmax\" to select the time interval corresponding to the echoes for the Fourier transform\n",
    "## change parameter \"ffmin\" and \"ffmax\" to select the frequency range of the NMR signal\n",
    "## include statements to label axes\n",
    "## use statements to change appearance such as font size, etc.\n",
    "\n",
    "f3=plt.figure()\n",
    "ax3 = f3.subplots()\n",
    "\n",
    "a.pproc['ftmin']=VALUE                   # time interval for Fourier transform (0 = all data)\n",
    "a.pproc['ftmax']=VALUE\n",
    "a.pproc['ffmin']=VALUE                   # frequency interval for spectrum display (0 = all data)\n",
    "a.pproc['ffmax']=VALU\n",
    "a.pproc['dispper']=0.2               # leave 20% space between each acquired spectrum\n",
    "a.proc()                             # calculate Fourier transform of the data in a\n",
    "## this will use the digitally filtered data from before. Instead, the original data can be processed by loading it again.\n",
    "\n",
    "a.plotfrq(ax3,0)                     # plot the frequency domain data of the first scan from the data set"
   ]
  },
  {
   "cell_type": "code",
   "execution_count": null,
   "id": "c6d8a345-d237-4792-b746-9b05e1b1dbf1",
   "metadata": {},
   "outputs": [],
   "source": [
    "# Gradient-duration-resolved integration of peaks on NMR spectra\n",
    "\n",
    "## TASKS:\n",
    "## change the intmin and intmax parameters to select the correct frequency range for integration\n",
    "## use set_xlabel and set_ylabel to set the labels to get a publication quality figure\n",
    "\n",
    "f4=plt.figure()\n",
    "ax4=f4.subplots()\n",
    "\n",
    "a.pproc['intmin']=VALUE      # set correct frequency range for integration\n",
    "a.pproc['intmax']=VALUE\n",
    "\n",
    "a.integrate()               # perform integration\n",
    "\n",
    "#find the starting gradient duration and increment, then set the correct x-axis\n",
    "dx=a.pinc[\"inc\"][0]\n",
    "x0=a.p[\"p2\"]\n",
    "print('x0 =',x0,'s , dx =',dx,'s')          # x0 is the starting gradient duration, and dx is the increment\n",
    "a.idt.x0=x0\n",
    "a.idt.dx=dx\n",
    "\n",
    "a.idt.plot(ax4,disp=[0])                   # disp=0 plots only the NMR signal in trace 0\n",
    "\n",
    "ax4.set_xlabel(\"seconds [s]\")               \n",
    "ax4.set_ylabel(\"Y LABEL\")"
   ]
  },
  {
   "cell_type": "markdown",
   "id": "70a22290",
   "metadata": {},
   "source": [
    "Fitting of the integral to time axis.\n",
    "NOTE: For some results to fit, optimize the initial conditions"
   ]
  },
  {
   "cell_type": "code",
   "execution_count": null,
   "id": "5d696512",
   "metadata": {},
   "outputs": [],
   "source": [
    "# Fitting of the integral\n",
    "\n",
    "## TASKS:\n",
    "## change the initial fitting parameters to obtain proper fitting\n",
    "## report the fitted gradient strength/diffusion coefficient with proper significant figures\n",
    "## use set_xlabel and set_ylabel to set the labels to get a publication quality figure\n",
    "## adjust appearance of figure as needed\n",
    "\n",
    "ax5 = plt.figure().subplots()\n",
    "a.idt.plot(ax5,disp=[0])                   # to be overlayed by fitted curve, disp=0 plots only the NMR signal in trace 0\n",
    "big_delta=a.p.get('tau',0.1)                # time interval between gradients\n",
    "\n",
    "def fun(t,a,b):\n",
    "    return FORMULA                          # INPUT the formula used for fitting. Use \"np.exp()\" for exponential, and t for small-delta (gradient duration).\n",
    "\n",
    "y = a.idt.dta[0]\n",
    "x = np.linspace(a.idt.x0,a.idt.x0+a.idt.dx*(a.pinc['n'][0]-1),a.pinc['n'][0])\n",
    "\n",
    "a.p1,a.p2=scipy.optimize.curve_fit(fun,x,y,p0=[A_VALUE,B_VALUE],maxfev=5000)                  # SELECT the initial conditions, especially the exponential index\n",
    "\n",
    "print(round(a.p1[1],SF1),'±',round(np.linalg.eig(a.p2)[0][1]**0.5,SF2))                     # REPLACE \"SF1\" and \"SF2\" with positive integrers to report the fitting results with correct significant figures\n",
    "\n",
    "x=np.linspace(x[0],x[-1],1000)                          # use 1000 points to generate a smooth curve\n",
    "a.fit_points = a.p1[0]*np.exp(-a.p1[1]*x**2*(big_delta-x/3))\n",
    "pl,=ax5.plot(x,a.fit_points,'r-')\n",
    "\n",
    "ax5.set_xlabel(\"seconds [s]\")                        # SET the labels to get a publication quality figure\n",
    "ax5.set_ylabel(\"Y LABEL\")\n",
    "pl.figure.set_tight_layout('pad')\n",
    "pl.figure.canvas.draw()\n",
    "\n"
   ]
  }
 ],
 "metadata": {
  "kernelspec": {
   "display_name": "Python 3 (ipykernel)",
   "language": "python",
   "name": "python3"
  },
  "language_info": {
   "codemirror_mode": {
    "name": "ipython",
    "version": 3
   },
   "file_extension": ".py",
   "mimetype": "text/x-python",
   "name": "python",
   "nbconvert_exporter": "python",
   "pygments_lexer": "ipython3",
   "version": "3.11.4"
  },
  "vscode": {
   "interpreter": {
    "hash": "2dbe3df8cea721298c9d97fe9b66c8eb538077a45bbc4c972f364bc45b01007f"
   }
  }
 },
 "nbformat": 4,
 "nbformat_minor": 5
}
