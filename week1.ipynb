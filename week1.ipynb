{
 "cells": [
  {
   "cell_type": "markdown",
   "id": "966ff918-87e6-411c-be33-a70995c15a18",
   "metadata": {},
   "source": [
    "Notebook file for Week 1"
   ]
  },
  {
   "cell_type": "markdown",
   "id": "d06e269c-c28c-4f8a-9350-ba15fb28d24a",
   "metadata": {},
   "source": [
    "Import libraries. The nmrbase folder needs to be located within the folder containing this Jupyter notebook"
   ]
  },
  {
   "cell_type": "code",
   "execution_count": null,
   "id": "8e5aab26",
   "metadata": {},
   "outputs": [],
   "source": [
    "import numpy as np\n",
    "import matplotlib.pyplot as plt\n",
    "import nmrbase.expbase as expbase\n",
    "import nmrbase.expdta as expdta"
   ]
  },
  {
   "cell_type": "markdown",
   "id": "262b09d5-a6cb-41dd-9c0c-525fbbde0721",
   "metadata": {},
   "source": [
    "Tuning response experiment"
   ]
  },
  {
   "cell_type": "code",
   "execution_count": null,
   "id": "0bf3beaa",
   "metadata": {},
   "outputs": [],
   "source": [
    "filename = r\"../DIRECTORY/FILENAME\"   #Defines the path to the data file. Here the path is relative to the current folder."
   ]
  },
  {
   "cell_type": "code",
   "execution_count": null,
   "id": "5aaf7d51-f721-4588-97bb-bc589bfaddd9",
   "metadata": {},
   "outputs": [],
   "source": [
    "a = expbase.expbase()                   # create an experiment base object (a)\n",
    "a.load(filename)                        # load data into a\n",
    "f1 = plt.figure()\n",
    "ax1 = f1.subplots()            # create axes for a figure\n",
    "\n",
    "a.plottm(ax1,1)                          # plot the time domain data of the first scan from the data set"
   ]
  },
  {
   "cell_type": "code",
   "execution_count": null,
   "id": "a129d265-7ca4-4885-9c75-df10547fa001",
   "metadata": {
    "tags": []
   },
   "outputs": [],
   "source": [
    "## ADDITIONAL TASKS:\n",
    "## include statements such as ax1.set_ylabel() to label axes\n",
    "## use statements to change appearance such as font size, etc.\n",
    "## Adjust horizontal axis limits to display only the ring-down signal with statements such as ax1.set_xlim([0,1]). You will need to select appropriate values.\n",
    "\n",
    "f1    # show the figure again with modifications"
   ]
  },
  {
   "cell_type": "code",
   "execution_count": null,
   "id": "76a0444e-e8ad-4525-8ac6-719d9ee64209",
   "metadata": {},
   "outputs": [],
   "source": [
    "## TASKS:\n",
    "## change parameter \"ftmin\" and \"ftmax\" to select the time interval corresponding to the ringdown for the Fourier transform\n",
    "## change parameter \"ffmin\" and \"ffmax\" to select the frequency range of the tuning response signal\n",
    "## include statements to label axes\n",
    "## use statements to change appearance such as font size, etc.\n",
    "## Adjust horizontal axis limits to display the spectrum of the ring-down signal\n",
    "\n",
    "f2=plt.figure()\n",
    "ax2=f2.subplots()\n",
    "\n",
    "a.pproc['ftmin']=VALUE                      # time interval for Fourier transform (0 = all data)\n",
    "a.pproc['ftmax']=VALUE \n",
    "a.pproc['ffmin']=VALUE                      # frequency interval for spectrum display (0 = all data)\n",
    "a.pproc['ffmax']=VALUE\n",
    "a.proc()                             # calculate Fourier transform of the data in a\n",
    "\n",
    "a.plotfrq(ax2,1)                     # plot the frequency domain data of the first scan from the data set"
   ]
  },
  {
   "cell_type": "code",
   "execution_count": null,
   "id": "0f08850a-d7f3-4468-8f2c-1f144bd4b89c",
   "metadata": {},
   "outputs": [],
   "source": [
    "i=np.argmax(a.frq[0].dta)     # find data point index of largest peak in spectrum\n",
    "f=a.frq[0].ind_to_x(i)        # find frequency corresponding to largest peak in spectrum\n",
    "print(\"Tuning frequency: {:.2f} Hz\".format(f))     # this statement prints the identified frequency in a nice format"
   ]
  },
  {
   "cell_type": "code",
   "execution_count": null,
   "id": "0ab2d69c-823c-4cef-8da4-223ba4a8adc3",
   "metadata": {},
   "outputs": [],
   "source": [
    "# plot figure again with line indicating maximum peak position. Notice this works only if previous parameters have been correctly selected.\n",
    "ax2.axvline(x = f, color = 'r', label = 'Larmor Frequency')\n",
    "\n",
    "f2   # show the figure again with the line included"
   ]
  },
  {
   "cell_type": "markdown",
   "id": "4a1b4ac5",
   "metadata": {},
   "source": [
    "Pulse length calibration.\n",
    "NOTE: To analyze and report multiple datasets, simply copy the necessary blocks of code and change the name of the veriables."
   ]
  },
  {
   "cell_type": "code",
   "execution_count": null,
   "id": "fe006899-dde8-4a00-ad9e-026044c9fdf5",
   "metadata": {},
   "outputs": [],
   "source": [
    "filename2 = r\"../DIRECTORY/FILENAME\"         # path of data file"
   ]
  },
  {
   "cell_type": "code",
   "execution_count": null,
   "id": "580831f0-b406-4fb3-928b-e2875050629e",
   "metadata": {},
   "outputs": [],
   "source": [
    "a2 = expbase.expbase()\n",
    "a2.load(filename2)                        # load data\n",
    "\n",
    "f3=plt.figure()\n",
    "ax3=f3.subplots()\n",
    "a2.plottm(ax3,5)"
   ]
  },
  {
   "cell_type": "code",
   "execution_count": null,
   "id": "7d60cc3f-e0c8-46a1-a816-eaa18b11180e",
   "metadata": {},
   "outputs": [],
   "source": [
    "## TASKS:\n",
    "## fine tune with ax3.set_xlim and ax3.set_ylim parameters to zoom in on the echo\n",
    "\n",
    "ax3.set_ylim([VALUE,VALUE])\n",
    "ax3.set_xlim([VALUE,VALUE])\n",
    "\n",
    "f3   # display adapted figrue"
   ]
  },
  {
   "cell_type": "code",
   "execution_count": null,
   "id": "cf8745c6-d8bf-493f-8340-652fca1103bf",
   "metadata": {},
   "outputs": [],
   "source": [
    "a2.pproc['digfmin']=1500     # set appropriate digital filter parameters\n",
    "a2.pproc['digfmax']=3500\n",
    "a2.digfilt()                 # perform digital filter operation"
   ]
  },
  {
   "cell_type": "code",
   "execution_count": null,
   "id": "29999d92-4351-45f2-9b74-c83a6c414827",
   "metadata": {},
   "outputs": [],
   "source": [
    "f4=plt.figure()\n",
    "ax4=f4.subplots()\n",
    "a2.plottm(ax4,5)   # plot the 5th scan (the 1st scan doesn't have signal because the pulse is too short)"
   ]
  },
  {
   "cell_type": "code",
   "execution_count": null,
   "id": "1a20eb71-4715-49dd-817e-eef07a56ac83",
   "metadata": {},
   "outputs": [],
   "source": [
    "## TASKS:\n",
    "## fine tune with ax4.set_xlim and ax4.set_ylim parameters to zoom in on the echo\n",
    "\n",
    "ax4.set_ylim([VALUE,VALUE])\n",
    "ax4.set_xlim([VALUE,VALUE])\n",
    "\n",
    "f4   # display adapted figrue"
   ]
  },
  {
   "cell_type": "code",
   "execution_count": null,
   "id": "c83198c0",
   "metadata": {},
   "outputs": [],
   "source": [
    "f5=plt.figure()\n",
    "ax5 = f5.subplots()\n",
    "\n",
    "a2.pproc['ftmin']=VALUE                      # time interval for Fourier transform (0 = all data)\n",
    "a2.pproc['ftmax']=VALUE\n",
    "a2.pproc['ffmin']=VALUE                      # frequency interval for spectrum display (0 = all data)\n",
    "a2.pproc['ffmax']=VALUE\n",
    "a2.proc()                             # calculate Fourier transform of the data in a\n",
    "## this will use the digitally filtered data from before. Instead, the original data can be processed by loading it again.\n",
    "\n",
    "a2.plotfrq(ax5,5)                     # plot the frequency domain data of the first scan from the data set\n",
    "\n",
    "## TASKS:\n",
    "## change parameter \"ftmin\" and \"ftmax\" to select the time interval corresponding to the ringdown for the Fourier transform\n",
    "## change parameter \"ffmin\" and \"ffmax\" to select the frequency range of the tuning response signal\n",
    "## include statements to label axes\n",
    "## use statements to change appearance such as font size, etc.\n",
    "## Adjust horizontal axis limits to display the spectrum of the ring-down signal"
   ]
  },
  {
   "cell_type": "code",
   "execution_count": null,
   "id": "c6d8a345-d237-4792-b746-9b05e1b1dbf1",
   "metadata": {},
   "outputs": [],
   "source": [
    "# This section is to integrate the peaks in the NMR spectra to determine pulse length\n",
    "\n",
    "## TASKS:\n",
    "## change the intmin and intmax parameters to select the correct frequency range for integration\n",
    "## use set_xlabel and set_ylabel to set the labels to get a publication quality figure\n",
    "## adjust appearance of figure as needed\n",
    "## change and report the \"x\" parameter to indicate the pulse length for 90° pulse with a vertical line\n",
    "\n",
    "f5=plt.figure()\n",
    "ax5=f5.subplots()\n",
    "\n",
    "a2.pproc['intmin']=VALUE      # set correct frequency range for integration\n",
    "a2.pproc['intmax']=VALUE\n",
    "\n",
    "a2.integrate()               # perform integration \n",
    "\n",
    "#find the starting pulselength and increment, then set the correct x-axis\n",
    "dx=a2.pinc[\"inc\"][0]\n",
    "x0=a2.p[\"p1\"]\n",
    "print('x0 =',x0,'s , dx =',dx,'s')          # x0 is the starting pulse length, and dx is the increment\n",
    "a2.idt.x0=x0\n",
    "a2.idt.dx=dx\n",
    "\n",
    "a2.idt.plot(ax5,disp=[0])                   # disp=0 plots only the NMR signal in trace 0\n",
    "ax5.axvline(x = VALUE, color = 'r', label = '90° pulse length') # display vertical line at 90 degree pulse length"
   ]
  }
 ],
 "metadata": {
  "kernelspec": {
   "display_name": "Python 3 (ipykernel)",
   "language": "python",
   "name": "python3"
  },
  "language_info": {
   "codemirror_mode": {
    "name": "ipython",
    "version": 3
   },
   "file_extension": ".py",
   "mimetype": "text/x-python",
   "name": "python",
   "nbconvert_exporter": "python",
   "pygments_lexer": "ipython3",
   "version": "3.11.4"
  },
  "vscode": {
   "interpreter": {
    "hash": "2dbe3df8cea721298c9d97fe9b66c8eb538077a45bbc4c972f364bc45b01007f"
   }
  }
 },
 "nbformat": 4,
 "nbformat_minor": 5
}
